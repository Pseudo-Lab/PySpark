{
 "cells": [
  {
   "cell_type": "code",
   "execution_count": 1,
   "id": "1c8422b6",
   "metadata": {
    "ExecuteTime": {
     "end_time": "2023-06-12T04:28:37.748782Z",
     "start_time": "2023-06-12T04:28:37.250743Z"
    }
   },
   "outputs": [],
   "source": [
    "import pyspark"
   ]
  },
  {
   "cell_type": "code",
   "execution_count": 2,
   "id": "eeb4a695",
   "metadata": {
    "ExecuteTime": {
     "end_time": "2023-06-12T04:28:37.778814Z",
     "start_time": "2023-06-12T04:28:37.751780Z"
    }
   },
   "outputs": [],
   "source": [
    "import findspark"
   ]
  },
  {
   "cell_type": "code",
   "execution_count": 3,
   "id": "a6ebf2a7",
   "metadata": {
    "ExecuteTime": {
     "end_time": "2023-06-12T04:28:37.794782Z",
     "start_time": "2023-06-12T04:28:37.780779Z"
    }
   },
   "outputs": [],
   "source": [
    "findspark.init()"
   ]
  },
  {
   "cell_type": "code",
   "execution_count": 4,
   "id": "3cd98427",
   "metadata": {
    "ExecuteTime": {
     "end_time": "2023-06-12T04:28:37.809775Z",
     "start_time": "2023-06-12T04:28:37.798741Z"
    }
   },
   "outputs": [],
   "source": [
    "#!pip install py4j==0.10.9.5"
   ]
  },
  {
   "cell_type": "code",
   "execution_count": 5,
   "id": "2c3216c8",
   "metadata": {
    "ExecuteTime": {
     "end_time": "2023-06-12T04:28:37.824780Z",
     "start_time": "2023-06-12T04:28:37.810770Z"
    }
   },
   "outputs": [],
   "source": [
    "import os\n",
    "import sys\n",
    "\n",
    "os.environ['PYSPARK_PYTHON'] = sys.executable\n",
    "os.environ['PYSPARK_DRIVER_PYTHON'] = sys.executable"
   ]
  },
  {
   "cell_type": "code",
   "execution_count": 6,
   "id": "9c286bff",
   "metadata": {
    "ExecuteTime": {
     "end_time": "2023-06-12T04:29:00.619699Z",
     "start_time": "2023-06-12T04:28:37.825776Z"
    }
   },
   "outputs": [],
   "source": [
    "from pyspark.sql import SparkSession\n",
    "from pyspark.sql.functions import avg\n",
    "\n",
    "spark = (SparkSession\n",
    "        .builder\n",
    "        .appName('AuthorsAges')\n",
    "        .getOrCreate())"
   ]
  },
  {
   "cell_type": "code",
   "execution_count": 7,
   "id": "797463f3",
   "metadata": {
    "ExecuteTime": {
     "end_time": "2023-06-12T04:29:19.599943Z",
     "start_time": "2023-06-12T04:29:00.621663Z"
    },
    "scrolled": true
   },
   "outputs": [
    {
     "name": "stdout",
     "output_type": "stream",
     "text": [
      "+------+--------+\n",
      "|  name|avg(age)|\n",
      "+------+--------+\n",
      "|Brooke|    22.5|\n",
      "| Denny|    31.0|\n",
      "| Jules|    30.0|\n",
      "|    TD|    35.0|\n",
      "+------+--------+\n",
      "\n"
     ]
    }
   ],
   "source": [
    "data_df = spark.createDataFrame([('Brooke',20), ('Denny',31), ('Jules',30),(\"TD\",35),('Brooke',25)], ['name','age'])\n",
    "\n",
    "avg_df = data_df.groupBy('name').agg(avg('age'))\n",
    "avg_df.show()"
   ]
  },
  {
   "cell_type": "markdown",
   "id": "09cee49c",
   "metadata": {},
   "source": [
    "# 스키마 정의"
   ]
  },
  {
   "cell_type": "markdown",
   "id": "060ab4ff",
   "metadata": {},
   "source": [
    "## 프로그래밍 스타일로 정의"
   ]
  },
  {
   "cell_type": "code",
   "execution_count": 8,
   "id": "2e4847da",
   "metadata": {
    "ExecuteTime": {
     "end_time": "2023-06-12T04:29:19.614941Z",
     "start_time": "2023-06-12T04:29:19.602942Z"
    }
   },
   "outputs": [],
   "source": [
    "from pyspark.sql.types import *\n",
    "\n",
    "schema = StructType([StructField(\"author\", StringType(), False),\n",
    "                    StructField(\"title\", StringType(), False)])"
   ]
  },
  {
   "cell_type": "code",
   "execution_count": 9,
   "id": "e72da88d",
   "metadata": {
    "ExecuteTime": {
     "end_time": "2023-06-12T04:29:19.629945Z",
     "start_time": "2023-06-12T04:29:19.617944Z"
    },
    "scrolled": true
   },
   "outputs": [
    {
     "data": {
      "text/plain": [
       "StructType([StructField('author', StringType(), False), StructField('title', StringType(), False)])"
      ]
     },
     "execution_count": 9,
     "metadata": {},
     "output_type": "execute_result"
    }
   ],
   "source": [
    "schema"
   ]
  },
  {
   "cell_type": "markdown",
   "id": "9065317b",
   "metadata": {},
   "source": [
    "## DDL 사용하여 정의"
   ]
  },
  {
   "cell_type": "code",
   "execution_count": 10,
   "id": "8d5a4a32",
   "metadata": {
    "ExecuteTime": {
     "end_time": "2023-06-12T04:29:19.644941Z",
     "start_time": "2023-06-12T04:29:19.630948Z"
    }
   },
   "outputs": [],
   "source": [
    "schema = \"author STRING, title STRING, pages INT\""
   ]
  },
  {
   "cell_type": "markdown",
   "id": "67150874",
   "metadata": {
    "ExecuteTime": {
     "end_time": "2023-03-31T08:21:48.572821Z",
     "start_time": "2023-03-31T08:21:36.515403Z"
    }
   },
   "source": [
    "# p.52 예제"
   ]
  },
  {
   "cell_type": "code",
   "execution_count": 11,
   "id": "40c486bc",
   "metadata": {
    "ExecuteTime": {
     "end_time": "2023-06-12T04:29:32.609526Z",
     "start_time": "2023-06-12T04:29:19.646946Z"
    }
   },
   "outputs": [
    {
     "name": "stdout",
     "output_type": "stream",
     "text": [
      "+---+---------+-------+-----------------+---------+-----+--------------------+\n",
      "| Id|    First|   Last|              Url|Published| Hits|           Campaigns|\n",
      "+---+---------+-------+-----------------+---------+-----+--------------------+\n",
      "|  1|    Jules|  Damji|https://tinyurl.1| 1/4/2016| 4535| [twitter, LinkedIn]|\n",
      "|  2|   Brooke|  Wenig|https://tinyurl.2| 5/5/2018| 8908| [twitter, LinkedIn]|\n",
      "|  3|    Denny|    Lee|https://tinyurl.3| 6/7/2019| 7659|[web, twitter, FB...|\n",
      "|  4|Tathagata|    Das|https://tinyurl.4|5/12/2018|10568|       [twitter, FB]|\n",
      "|  5|    Matei|Zaharia|https://tinyurl.5|5/14/2014|40578|[web, twitter, FB...|\n",
      "|  6|  Reynold|    Xin|https://tinyurl.6| 3/2/2015|25568| [twitter, LinkedIn]|\n",
      "+---+---------+-------+-----------------+---------+-----+--------------------+\n",
      "\n"
     ]
    }
   ],
   "source": [
    "from pyspark.sql import SparkSession\n",
    "\n",
    "# DDL 사용하여 스키마 정의\n",
    "#schema = \"'ID' INT, 'First' STRING, 'Last' STRING, 'Url' STRING, 'Published' STRING, 'HITS' INT, 'Campaigns' ARRAY<STRING>\"\n",
    "\n",
    "schema = StructType([\n",
    "   StructField(\"Id\", IntegerType(), False),\n",
    "   StructField(\"First\", StringType(), False),\n",
    "   StructField(\"Last\", StringType(), False),\n",
    "   StructField(\"Url\", StringType(), False),\n",
    "   StructField(\"Published\", StringType(), False),\n",
    "   StructField(\"Hits\", IntegerType(), False),\n",
    "   StructField(\"Campaigns\", ArrayType(StringType()), False)])\n",
    "\n",
    "data = [[1, \"Jules\", \"Damji\", \"https://tinyurl.1\", \"1/4/2016\", 4535, [\"twitter\", \"LinkedIn\"]],\n",
    "       [2, \"Brooke\",\"Wenig\",\"https://tinyurl.2\", \"5/5/2018\", 8908, [\"twitter\", \"LinkedIn\"]],\n",
    "       [3, \"Denny\", \"Lee\", \"https://tinyurl.3\",\"6/7/2019\",7659, [\"web\", \"twitter\", \"FB\", \"LinkedIn\"]],\n",
    "       [4, \"Tathagata\", \"Das\",\"https://tinyurl.4\", \"5/12/2018\", 10568, [\"twitter\", \"FB\"]],\n",
    "       [5, \"Matei\",\"Zaharia\", \"https://tinyurl.5\", \"5/14/2014\", 40578, [\"web\", \"twitter\", \"FB\", \"LinkedIn\"]],\n",
    "       [6, \"Reynold\", \"Xin\", \"https://tinyurl.6\", \"3/2/2015\", 25568, [\"twitter\", \"LinkedIn\"]]\n",
    "      ]\n",
    "\n",
    "# 메인 프로그램\n",
    "\n",
    "#스파크세션 생성\n",
    "spark = (SparkSession\n",
    "        .builder\n",
    "        .appName(\"Example-3_6\")\n",
    "        .getOrCreate())\n",
    "\n",
    "blogs_df = spark.createDataFrame(data, schema)\n",
    "blogs_df.show()"
   ]
  },
  {
   "cell_type": "code",
   "execution_count": 12,
   "id": "fa1090c4",
   "metadata": {
    "ExecuteTime": {
     "end_time": "2023-06-12T04:29:32.624518Z",
     "start_time": "2023-06-12T04:29:32.610480Z"
    }
   },
   "outputs": [
    {
     "name": "stdout",
     "output_type": "stream",
     "text": [
      "root\n",
      " |-- Id: integer (nullable = false)\n",
      " |-- First: string (nullable = false)\n",
      " |-- Last: string (nullable = false)\n",
      " |-- Url: string (nullable = false)\n",
      " |-- Published: string (nullable = false)\n",
      " |-- Hits: integer (nullable = false)\n",
      " |-- Campaigns: array (nullable = false)\n",
      " |    |-- element: string (containsNull = true)\n",
      "\n"
     ]
    }
   ],
   "source": [
    "blogs_df.printSchema()"
   ]
  },
  {
   "cell_type": "markdown",
   "id": "dcad0f6a",
   "metadata": {},
   "source": [
    "# 로우 (p.58~)"
   ]
  },
  {
   "cell_type": "code",
   "execution_count": 13,
   "id": "7209f3ce",
   "metadata": {
    "ExecuteTime": {
     "end_time": "2023-06-12T04:29:32.639631Z",
     "start_time": "2023-06-12T04:29:32.625480Z"
    }
   },
   "outputs": [],
   "source": [
    "from pyspark.sql import Row"
   ]
  },
  {
   "cell_type": "code",
   "execution_count": 14,
   "id": "784c518a",
   "metadata": {
    "ExecuteTime": {
     "end_time": "2023-06-12T04:29:32.655455Z",
     "start_time": "2023-06-12T04:29:32.640404Z"
    }
   },
   "outputs": [],
   "source": [
    "blog_row = Row(6, \"Reynold\", \"Xin\", \"https://tinyurl.6\", 255568, \"3/2/2015\", [\"twitter\", \"LinkedIn\"])"
   ]
  },
  {
   "cell_type": "code",
   "execution_count": 15,
   "id": "55fd21a4",
   "metadata": {
    "ExecuteTime": {
     "end_time": "2023-06-12T04:29:32.670247Z",
     "start_time": "2023-06-12T04:29:32.656401Z"
    }
   },
   "outputs": [
    {
     "data": {
      "text/plain": [
       "'Reynold'"
      ]
     },
     "execution_count": 15,
     "metadata": {},
     "output_type": "execute_result"
    }
   ],
   "source": [
    "blog_row[1]"
   ]
  },
  {
   "cell_type": "code",
   "execution_count": 16,
   "id": "2ec89060",
   "metadata": {
    "ExecuteTime": {
     "end_time": "2023-06-12T04:29:45.066210Z",
     "start_time": "2023-06-12T04:29:32.671247Z"
    }
   },
   "outputs": [
    {
     "name": "stdout",
     "output_type": "stream",
     "text": [
      "+-------------+-----+\n",
      "|      Authors|State|\n",
      "+-------------+-----+\n",
      "|Matei Zaharia|   CA|\n",
      "|  Reynold Xin|   CA|\n",
      "+-------------+-----+\n",
      "\n"
     ]
    }
   ],
   "source": [
    "rows = [Row(\"Matei Zaharia\", \"CA\"), Row(\"Reynold Xin\", \"CA\")]\n",
    "author_df = spark.createDataFrame(rows, [\"Authors\", \"State\"])\n",
    "author_df.show()"
   ]
  },
  {
   "cell_type": "markdown",
   "id": "83e28913",
   "metadata": {},
   "source": [
    "# DataFrameReader/DataFrameWriter 사용하기(p.60~)"
   ]
  },
  {
   "cell_type": "code",
   "execution_count": 18,
   "id": "a48cdaee",
   "metadata": {
    "ExecuteTime": {
     "end_time": "2023-06-12T04:30:45.333342Z",
     "start_time": "2023-06-12T04:30:45.195380Z"
    }
   },
   "outputs": [],
   "source": [
    "from pyspark.sql import SparkSession\n",
    "from pyspark.sql.types import *\n",
    "from pyspark.sql.functions import *\n",
    "\n",
    "spark = SparkSession.builder.appName(\"Chapter03\").getOrCreate()\n",
    "\n",
    "# 스키마 정의\n",
    "fire_schema = StructType([StructField('CallNumber', IntegerType(), True),\n",
    "                         StructField('UnitID', StringType(), True),\n",
    "                         StructField('IncidentNumber', IntegerType(), True),\n",
    "                         StructField('CallType', StringType(), True),\n",
    "                         StructField('CallDate', StringType(), True),\n",
    "                         StructField('WatchDate', StringType(), True),\n",
    "                         StructField('CallFinalDisposition', StringType(), True),\n",
    "                         StructField('AvailableDtTm', StringType(), True), \n",
    "                         StructField('Address', StringType(), True),\n",
    "                         StructField('City', StringType(), True), \n",
    "                         StructField('Zipcode', StringType(), True), \n",
    "                         StructField('Battalion', StringType(), True),\n",
    "                         StructField('StationArea', StringType(), True), \n",
    "                         StructField('Box', StringType(), True),\n",
    "                         StructField('OriginalPriority', StringType(), True),\n",
    "                         StructField('Priority', StringType(), True), \n",
    "                         StructField('FinalPriority', IntegerType(), True), \n",
    "                         StructField('ASLUnit', BooleanType(), True), \n",
    "                         StructField('CalltypeGroup', StringType(), True), \n",
    "                         StructField('NumAlarms', IntegerType(), True),\n",
    "                         StructField('UnitType', StringType(), True), \n",
    "                         StructField('UnitSequenceInCallDistrict', IntegerType(), True), \n",
    "                         StructField('FirePreventionDistirct', StringType(), True),\n",
    "                         StructField('SupervisiorDistrict', StringType(), True),\n",
    "                         StructField('Neighborhood', StringType(), True),\n",
    "                         StructField('Location', StringType(), True), \n",
    "                         StructField('RowID', StringType(), True),\n",
    "                         StructField('Delay', FloatType(), True) \n",
    "                         ])\n",
    "\n",
    "sf_fire_file = \"C:/0. Modeling/1. Modeling Code/Pyspark/pyspark_dataset/LearningSparkV2-master/chapter3/data/sf-fire-calls.csv\"\n",
    "fire_df = spark.read.csv(sf_fire_file, header = True, schema = fire_schema)"
   ]
  },
  {
   "cell_type": "code",
   "execution_count": 19,
   "id": "42e7c2b2",
   "metadata": {
    "ExecuteTime": {
     "end_time": "2023-06-12T04:30:48.007576Z",
     "start_time": "2023-06-12T04:30:47.555540Z"
    },
    "scrolled": true
   },
   "outputs": [
    {
     "name": "stdout",
     "output_type": "stream",
     "text": [
      "+----------+------+--------------+----------------+----------+----------+--------------------+----------------------+---------------------------+----+-------+---------+-----------+----+----------------+--------+-------------+-------+-------------+---------+--------+--------------------------+----------------------+-------------------+---------------------+-------------------------------------+-------------+---------+\n",
      "|CallNumber|UnitID|IncidentNumber|CallType        |CallDate  |WatchDate |CallFinalDisposition|AvailableDtTm         |Address                    |City|Zipcode|Battalion|StationArea|Box |OriginalPriority|Priority|FinalPriority|ASLUnit|CalltypeGroup|NumAlarms|UnitType|UnitSequenceInCallDistrict|FirePreventionDistirct|SupervisiorDistrict|Neighborhood         |Location                             |RowID        |Delay    |\n",
      "+----------+------+--------------+----------------+----------+----------+--------------------+----------------------+---------------------------+----+-------+---------+-----------+----+----------------+--------+-------------+-------+-------------+---------+--------+--------------------------+----------------------+-------------------+---------------------+-------------------------------------+-------------+---------+\n",
      "|20110016  |T13   |2003235       |Structure Fire  |01/11/2002|01/10/2002|Other               |01/11/2002 01:51:44 AM|2000 Block of CALIFORNIA ST|SF  |94109  |B04      |38         |3362|3               |3       |3            |false  |null         |1        |TRUCK   |2                         |4                     |5                  |Pacific Heights      |(37.7895840679362, -122.428071912459)|020110016-T13|2.95     |\n",
      "|20110022  |M17   |2003241       |Medical Incident|01/11/2002|01/10/2002|Other               |01/11/2002 03:01:18 AM|0 Block of SILVERVIEW DR   |SF  |94124  |B10      |42         |6495|3               |3       |3            |true   |null         |1        |MEDIC   |1                         |10                    |10                 |Bayview Hunters Point|(37.7337623673897, -122.396113802632)|020110022-M17|4.7      |\n",
      "|20110023  |M41   |2003242       |Medical Incident|01/11/2002|01/10/2002|Other               |01/11/2002 02:39:50 AM|MARKET ST/MCALLISTER ST    |SF  |94102  |B03      |01         |1455|3               |3       |3            |true   |null         |1        |MEDIC   |2                         |3                     |6                  |Tenderloin           |(37.7811772186856, -122.411699931232)|020110023-M41|2.4333334|\n",
      "|20110032  |E11   |2003250       |Vehicle Fire    |01/11/2002|01/10/2002|Other               |01/11/2002 04:16:46 AM|APPLETON AV/MISSION ST     |SF  |94110  |B06      |32         |5626|3               |3       |3            |false  |null         |1        |ENGINE  |1                         |6                     |9                  |Bernal Heights       |(37.7388432849018, -122.423948785199)|020110032-E11|1.5      |\n",
      "|20110043  |B04   |2003259       |Alarms          |01/11/2002|01/10/2002|Other               |01/11/2002 06:01:58 AM|1400 Block of SUTTER ST    |SF  |94109  |B04      |03         |3223|3               |3       |3            |false  |null         |1        |CHIEF   |2                         |4                     |2                  |Western Addition     |(37.7872890372638, -122.424236212664)|020110043-B04|3.4833333|\n",
      "+----------+------+--------------+----------------+----------+----------+--------------------+----------------------+---------------------------+----+-------+---------+-----------+----+----------------+--------+-------------+-------+-------------+---------+--------+--------------------------+----------------------+-------------------+---------------------+-------------------------------------+-------------+---------+\n",
      "only showing top 5 rows\n",
      "\n"
     ]
    }
   ],
   "source": [
    "fire_df.show(5, False)"
   ]
  },
  {
   "cell_type": "markdown",
   "id": "6c4869c6",
   "metadata": {},
   "source": [
    "## 데이터 프레임을 파케이 파일/ SQL 테이블로 저장하기"
   ]
  },
  {
   "cell_type": "code",
   "execution_count": 20,
   "id": "24f5b9a7",
   "metadata": {
    "ExecuteTime": {
     "end_time": "2023-06-12T04:30:52.644426Z",
     "start_time": "2023-06-12T04:30:52.631445Z"
    }
   },
   "outputs": [
    {
     "name": "stdout",
     "output_type": "stream",
     "text": [
      "3.8.5 (default, Sep  3 2020, 21:29:08) [MSC v.1916 64 bit (AMD64)]\n"
     ]
    }
   ],
   "source": [
    "print(sys.version)"
   ]
  },
  {
   "cell_type": "code",
   "execution_count": 21,
   "id": "67e25683",
   "metadata": {
    "ExecuteTime": {
     "end_time": "2023-06-12T04:30:52.659429Z",
     "start_time": "2023-06-12T04:30:52.646429Z"
    },
    "scrolled": false
   },
   "outputs": [
    {
     "data": {
      "text/plain": [
       "'3.3.2'"
      ]
     },
     "execution_count": 21,
     "metadata": {},
     "output_type": "execute_result"
    }
   ],
   "source": [
    "spark.version"
   ]
  },
  {
   "cell_type": "markdown",
   "id": "3c993918",
   "metadata": {},
   "source": [
    "### 파케이 파일로 저장"
   ]
  },
  {
   "cell_type": "code",
   "execution_count": 22,
   "id": "26e1d615",
   "metadata": {
    "ExecuteTime": {
     "end_time": "2023-06-12T04:30:55.205528Z",
     "start_time": "2023-06-12T04:30:52.662428Z"
    }
   },
   "outputs": [],
   "source": [
    "parquet_path = \"C:/0. Modeling/1. Modeling Code/Pyspark/pyspark_dataset/LearningSparkV2-master/chapter3/data/fire_df.parquet\"\n",
    "fire_df.write.format(\"parquet\").mode('overwrite').save(parquet_path)"
   ]
  },
  {
   "cell_type": "markdown",
   "id": "9a4d74a2",
   "metadata": {},
   "source": [
    "### SQL 테이블로 저장 (오류)"
   ]
  },
  {
   "cell_type": "markdown",
   "id": "4597d737",
   "metadata": {
    "ExecuteTime": {
     "end_time": "2023-06-12T04:32:45.387407Z",
     "start_time": "2023-06-12T04:32:45.347856Z"
    }
   },
   "source": [
    "parquet_table = \"C:/0. Modeling/1. Modeling Code/Pyspark/pyspark_dataset/LearningSparkV2-master/chapter3/data/few_fire_tbl\"\n",
    "fire_df.write.format(\"parquet\").mode('overwrite').saveAsTable(parquet_table)"
   ]
  },
  {
   "cell_type": "markdown",
   "id": "354c0f66",
   "metadata": {},
   "source": [
    "## 프로젝션과 필터 (p.63~)"
   ]
  },
  {
   "cell_type": "code",
   "execution_count": 25,
   "id": "397db249",
   "metadata": {
    "ExecuteTime": {
     "end_time": "2023-06-12T04:33:15.992863Z",
     "start_time": "2023-06-12T04:33:15.792909Z"
    },
    "scrolled": true
   },
   "outputs": [
    {
     "name": "stdout",
     "output_type": "stream",
     "text": [
      "+--------------+----------------------+--------------+\n",
      "|IncidentNumber|AvailableDtTm         |CallType      |\n",
      "+--------------+----------------------+--------------+\n",
      "|2003235       |01/11/2002 01:51:44 AM|Structure Fire|\n",
      "|2003250       |01/11/2002 04:16:46 AM|Vehicle Fire  |\n",
      "|2003259       |01/11/2002 06:01:58 AM|Alarms        |\n",
      "|2003279       |01/11/2002 08:03:26 AM|Structure Fire|\n",
      "|2003301       |01/11/2002 09:46:44 AM|Alarms        |\n",
      "+--------------+----------------------+--------------+\n",
      "only showing top 5 rows\n",
      "\n"
     ]
    }
   ],
   "source": [
    "few_fire_df = (fire_df\n",
    "              .select(\"IncidentNumber\", \"AvailableDtTm\",\"CallType\")\n",
    "              .where(col(\"CallType\") != \"Medical Incident\"))\n",
    "\n",
    "few_fire_df.show(5, truncate = False)"
   ]
  },
  {
   "cell_type": "code",
   "execution_count": 26,
   "id": "8bdf69bc",
   "metadata": {
    "ExecuteTime": {
     "end_time": "2023-06-12T04:33:18.031422Z",
     "start_time": "2023-06-12T04:33:16.667426Z"
    }
   },
   "outputs": [
    {
     "name": "stdout",
     "output_type": "stream",
     "text": [
      "+-----------------+\n",
      "|DistinctCallTypes|\n",
      "+-----------------+\n",
      "|               30|\n",
      "+-----------------+\n",
      "\n"
     ]
    }
   ],
   "source": [
    "### 신고로 기록된 Calltype 종류\n",
    "\n",
    "from pyspark.sql.functions import *\n",
    "\n",
    "(fire_df\n",
    "    .select(\"CallType\")\n",
    "    .where(col(\"CallType\").isNotNull())\n",
    "    .agg(countDistinct(\"CallType\").alias(\"DistinctCallTypes\"))\n",
    "    .show()\n",
    ")"
   ]
  },
  {
   "cell_type": "code",
   "execution_count": 27,
   "id": "fa286437",
   "metadata": {
    "ExecuteTime": {
     "end_time": "2023-06-12T04:33:19.805414Z",
     "start_time": "2023-06-12T04:33:18.032421Z"
    },
    "scrolled": true
   },
   "outputs": [
    {
     "name": "stdout",
     "output_type": "stream",
     "text": [
      "+-----------------------------+\n",
      "|CallType                     |\n",
      "+-----------------------------+\n",
      "|Elevator / Escalator Rescue  |\n",
      "|Aircraft Emergency           |\n",
      "|Alarms                       |\n",
      "|Odor (Strange / Unknown)     |\n",
      "|Citizen Assist / Service Call|\n",
      "|HazMat                       |\n",
      "|Explosion                    |\n",
      "|Oil Spill                    |\n",
      "|Vehicle Fire                 |\n",
      "|Suspicious Package           |\n",
      "+-----------------------------+\n",
      "only showing top 10 rows\n",
      "\n"
     ]
    }
   ],
   "source": [
    "### null이 아닌 신고 타입의 목록\n",
    "\n",
    "(fire_df\n",
    "    .select(\"CallType\")\n",
    "    .where(col(\"CallType\").isNotNull())\n",
    "    .distinct()\n",
    "    .show(10, False)\n",
    ")"
   ]
  },
  {
   "cell_type": "markdown",
   "id": "839fedca",
   "metadata": {},
   "source": [
    "## 칼럼 이름 변경"
   ]
  },
  {
   "cell_type": "code",
   "execution_count": 28,
   "id": "1fa0bb7a",
   "metadata": {
    "ExecuteTime": {
     "end_time": "2023-06-12T04:33:19.940415Z",
     "start_time": "2023-06-12T04:33:19.806415Z"
    }
   },
   "outputs": [
    {
     "name": "stdout",
     "output_type": "stream",
     "text": [
      "+---------------------+\n",
      "|ResponseDelayedinMins|\n",
      "+---------------------+\n",
      "|5.35                 |\n",
      "|6.25                 |\n",
      "|5.2                  |\n",
      "|5.6                  |\n",
      "|7.25                 |\n",
      "+---------------------+\n",
      "only showing top 5 rows\n",
      "\n"
     ]
    }
   ],
   "source": [
    "new_fire_df = fire_df.withColumnRenamed(\"Delay\",\"ResponseDelayedinMins\")\n",
    "\n",
    "(new_fire_df\n",
    "    .select(\"ResponseDelayedinMins\")\n",
    "    .where(col(\"ResponseDelayedinMins\")>5)\n",
    "    .show(5, False)\n",
    ")"
   ]
  },
  {
   "cell_type": "markdown",
   "id": "b6893206",
   "metadata": {},
   "source": [
    "## 칼럼 속성 변경"
   ]
  },
  {
   "cell_type": "code",
   "execution_count": 29,
   "id": "c78b3d55",
   "metadata": {
    "ExecuteTime": {
     "end_time": "2023-06-12T04:33:20.015413Z",
     "start_time": "2023-06-12T04:33:19.942419Z"
    }
   },
   "outputs": [],
   "source": [
    "fire_ts_df= (new_fire_df\n",
    "             .withColumn(\"IncidentDate\", to_timestamp(col(\"CallDate\"), \"MM/dd/yyyy\"))\n",
    "             .drop(\"CallDate\")\n",
    "             .withColumn(\"OnWatchDate\", to_timestamp(col(\"WatchDate\"), \"MM/dd/yyyy\"))\n",
    "             .drop(\"WatchDate\")\n",
    "             .withColumn(\"AvailableDtTS\", to_timestamp(col(\"AvailableDtTm\"), \"MM/dd/yyyy hh:mm:ss a\"))\n",
    "             .drop(\"AvailableDtTm\") \n",
    "            )"
   ]
  },
  {
   "cell_type": "code",
   "execution_count": 30,
   "id": "060227ff",
   "metadata": {
    "ExecuteTime": {
     "end_time": "2023-06-12T04:33:20.480411Z",
     "start_time": "2023-06-12T04:33:20.308416Z"
    },
    "scrolled": true
   },
   "outputs": [
    {
     "name": "stdout",
     "output_type": "stream",
     "text": [
      "+----------+------+--------------+----------------+--------------------+---------------------------+----+-------+---------+-----------+----+----------------+--------+-------------+-------+-------------+---------+--------+--------------------------+----------------------+-------------------+---------------------+-------------------------------------+-------------+---------------------+-------------------+-------------------+-------------------+\n",
      "|CallNumber|UnitID|IncidentNumber|CallType        |CallFinalDisposition|Address                    |City|Zipcode|Battalion|StationArea|Box |OriginalPriority|Priority|FinalPriority|ASLUnit|CalltypeGroup|NumAlarms|UnitType|UnitSequenceInCallDistrict|FirePreventionDistirct|SupervisiorDistrict|Neighborhood         |Location                             |RowID        |ResponseDelayedinMins|IncidentDate       |OnWatchDate        |AvailableDtTS      |\n",
      "+----------+------+--------------+----------------+--------------------+---------------------------+----+-------+---------+-----------+----+----------------+--------+-------------+-------+-------------+---------+--------+--------------------------+----------------------+-------------------+---------------------+-------------------------------------+-------------+---------------------+-------------------+-------------------+-------------------+\n",
      "|20110016  |T13   |2003235       |Structure Fire  |Other               |2000 Block of CALIFORNIA ST|SF  |94109  |B04      |38         |3362|3               |3       |3            |false  |null         |1        |TRUCK   |2                         |4                     |5                  |Pacific Heights      |(37.7895840679362, -122.428071912459)|020110016-T13|2.95                 |2002-01-11 00:00:00|2002-01-10 00:00:00|2002-01-11 01:51:44|\n",
      "|20110022  |M17   |2003241       |Medical Incident|Other               |0 Block of SILVERVIEW DR   |SF  |94124  |B10      |42         |6495|3               |3       |3            |true   |null         |1        |MEDIC   |1                         |10                    |10                 |Bayview Hunters Point|(37.7337623673897, -122.396113802632)|020110022-M17|4.7                  |2002-01-11 00:00:00|2002-01-10 00:00:00|2002-01-11 03:01:18|\n",
      "|20110023  |M41   |2003242       |Medical Incident|Other               |MARKET ST/MCALLISTER ST    |SF  |94102  |B03      |01         |1455|3               |3       |3            |true   |null         |1        |MEDIC   |2                         |3                     |6                  |Tenderloin           |(37.7811772186856, -122.411699931232)|020110023-M41|2.4333334            |2002-01-11 00:00:00|2002-01-10 00:00:00|2002-01-11 02:39:50|\n",
      "|20110032  |E11   |2003250       |Vehicle Fire    |Other               |APPLETON AV/MISSION ST     |SF  |94110  |B06      |32         |5626|3               |3       |3            |false  |null         |1        |ENGINE  |1                         |6                     |9                  |Bernal Heights       |(37.7388432849018, -122.423948785199)|020110032-E11|1.5                  |2002-01-11 00:00:00|2002-01-10 00:00:00|2002-01-11 04:16:46|\n",
      "|20110043  |B04   |2003259       |Alarms          |Other               |1400 Block of SUTTER ST    |SF  |94109  |B04      |03         |3223|3               |3       |3            |false  |null         |1        |CHIEF   |2                         |4                     |2                  |Western Addition     |(37.7872890372638, -122.424236212664)|020110043-B04|3.4833333            |2002-01-11 00:00:00|2002-01-10 00:00:00|2002-01-11 06:01:58|\n",
      "+----------+------+--------------+----------------+--------------------+---------------------------+----+-------+---------+-----------+----+----------------+--------+-------------+-------+-------------+---------+--------+--------------------------+----------------------+-------------------+---------------------+-------------------------------------+-------------+---------------------+-------------------+-------------------+-------------------+\n",
      "only showing top 5 rows\n",
      "\n"
     ]
    }
   ],
   "source": [
    "fire_ts_df.show(5,False)"
   ]
  },
  {
   "cell_type": "code",
   "execution_count": 31,
   "id": "f83e8533",
   "metadata": {
    "ExecuteTime": {
     "end_time": "2023-06-12T04:33:21.035409Z",
     "start_time": "2023-06-12T04:33:20.913409Z"
    }
   },
   "outputs": [
    {
     "name": "stdout",
     "output_type": "stream",
     "text": [
      "+-------------------+-------------------+-------------------+\n",
      "|IncidentDate       |OnWatchDate        |AvailableDtTS      |\n",
      "+-------------------+-------------------+-------------------+\n",
      "|2002-01-11 00:00:00|2002-01-10 00:00:00|2002-01-11 01:51:44|\n",
      "|2002-01-11 00:00:00|2002-01-10 00:00:00|2002-01-11 03:01:18|\n",
      "|2002-01-11 00:00:00|2002-01-10 00:00:00|2002-01-11 02:39:50|\n",
      "|2002-01-11 00:00:00|2002-01-10 00:00:00|2002-01-11 04:16:46|\n",
      "|2002-01-11 00:00:00|2002-01-10 00:00:00|2002-01-11 06:01:58|\n",
      "+-------------------+-------------------+-------------------+\n",
      "only showing top 5 rows\n",
      "\n"
     ]
    }
   ],
   "source": [
    "(fire_ts_df\n",
    "    .select(\"IncidentDate\", \"OnWatchDate\",\"AvailableDtTS\")\n",
    "    .show(5, False))"
   ]
  },
  {
   "cell_type": "code",
   "execution_count": 32,
   "id": "281aa480",
   "metadata": {
    "ExecuteTime": {
     "end_time": "2023-06-12T04:33:22.680401Z",
     "start_time": "2023-06-12T04:33:21.545406Z"
    }
   },
   "outputs": [
    {
     "name": "stdout",
     "output_type": "stream",
     "text": [
      "+------------------+\n",
      "|year(IncidentDate)|\n",
      "+------------------+\n",
      "|              2000|\n",
      "|              2001|\n",
      "|              2002|\n",
      "|              2003|\n",
      "|              2004|\n",
      "|              2005|\n",
      "|              2006|\n",
      "|              2007|\n",
      "|              2008|\n",
      "|              2009|\n",
      "|              2010|\n",
      "|              2011|\n",
      "|              2012|\n",
      "|              2013|\n",
      "|              2014|\n",
      "|              2015|\n",
      "|              2016|\n",
      "|              2017|\n",
      "|              2018|\n",
      "+------------------+\n",
      "\n"
     ]
    }
   ],
   "source": [
    "(fire_ts_df\n",
    "    .select(year(\"IncidentDate\"))\n",
    "    .distinct()\n",
    "    .orderBy(year(\"IncidentDate\"))\n",
    "    .show()\n",
    ")"
   ]
  },
  {
   "cell_type": "markdown",
   "id": "fdc68d05",
   "metadata": {},
   "source": [
    "## 집계 연산"
   ]
  },
  {
   "cell_type": "code",
   "execution_count": 33,
   "id": "aeb38a51",
   "metadata": {
    "ExecuteTime": {
     "end_time": "2023-06-12T04:33:24.115395Z",
     "start_time": "2023-06-12T04:33:22.856405Z"
    }
   },
   "outputs": [
    {
     "name": "stdout",
     "output_type": "stream",
     "text": [
      "+-------------------------------+------+\n",
      "|CallType                       |count |\n",
      "+-------------------------------+------+\n",
      "|Medical Incident               |113794|\n",
      "|Structure Fire                 |23319 |\n",
      "|Alarms                         |19406 |\n",
      "|Traffic Collision              |7013  |\n",
      "|Citizen Assist / Service Call  |2524  |\n",
      "|Other                          |2166  |\n",
      "|Outside Fire                   |2094  |\n",
      "|Vehicle Fire                   |854   |\n",
      "|Gas Leak (Natural and LP Gases)|764   |\n",
      "|Water Rescue                   |755   |\n",
      "+-------------------------------+------+\n",
      "only showing top 10 rows\n",
      "\n"
     ]
    }
   ],
   "source": [
    "(fire_ts_df\n",
    "    .select(\"CallType\")\n",
    "    .where(col('CallType').isNotNull())\n",
    "    .groupby(\"CallType\")\n",
    "    .count()\n",
    "    .orderBy(\"count\", ascending = False)\n",
    "    .show(n=10, truncate = False)\n",
    ")"
   ]
  },
  {
   "cell_type": "code",
   "execution_count": 34,
   "id": "ecace44e",
   "metadata": {
    "ExecuteTime": {
     "end_time": "2023-06-12T04:33:24.656396Z",
     "start_time": "2023-06-12T04:33:24.117396Z"
    }
   },
   "outputs": [
    {
     "name": "stdout",
     "output_type": "stream",
     "text": [
      "+--------------+--------------------------+--------------------------+--------------------------+\n",
      "|sum(NumAlarms)|avg(ResponseDelayedinMins)|min(ResponseDelayedinMins)|max(ResponseDelayedinMins)|\n",
      "+--------------+--------------------------+--------------------------+--------------------------+\n",
      "|        176170|         3.892364154521585|               0.016666668|                   1844.55|\n",
      "+--------------+--------------------------+--------------------------+--------------------------+\n",
      "\n"
     ]
    }
   ],
   "source": [
    "import pyspark.sql.functions as F\n",
    "\n",
    "(fire_ts_df\n",
    "    .select(F.sum(\"NumAlarms\"), F.avg(\"ResponseDelayedinMins\"),\n",
    "           F.min(\"ResponseDelayedinMins\"), F.max(\"ResponseDelayedinMins\"))\n",
    "    .show()\n",
    ")"
   ]
  },
  {
   "cell_type": "markdown",
   "id": "8c35ce17",
   "metadata": {},
   "source": [
    "# 데이터세트 API"
   ]
  },
  {
   "cell_type": "markdown",
   "id": "e922b74f",
   "metadata": {},
   "source": [
    "## 정적 타입 객체, 동적 타입 객체, 포괄적인 Row"
   ]
  },
  {
   "cell_type": "code",
   "execution_count": 35,
   "id": "35ed331a",
   "metadata": {
    "ExecuteTime": {
     "end_time": "2023-06-12T04:33:25.601389Z",
     "start_time": "2023-06-12T04:33:25.585389Z"
    }
   },
   "outputs": [],
   "source": [
    "row = Row(350, True, \"Learning Spark 2E\", None)"
   ]
  },
  {
   "cell_type": "code",
   "execution_count": 36,
   "id": "9bed05ad",
   "metadata": {
    "ExecuteTime": {
     "end_time": "2023-06-12T04:33:26.081388Z",
     "start_time": "2023-06-12T04:33:26.072388Z"
    }
   },
   "outputs": [
    {
     "data": {
      "text/plain": [
       "'Learning Spark 2E'"
      ]
     },
     "execution_count": 36,
     "metadata": {},
     "output_type": "execute_result"
    }
   ],
   "source": [
    "row[2]"
   ]
  },
  {
   "cell_type": "markdown",
   "id": "63b0bb0b",
   "metadata": {},
   "source": [
    "# 카탈리스트 옵티마이저"
   ]
  },
  {
   "cell_type": "code",
   "execution_count": 38,
   "id": "cca08d3f",
   "metadata": {
    "ExecuteTime": {
     "end_time": "2023-06-12T04:41:56.628770Z",
     "start_time": "2023-06-12T04:41:56.193019Z"
    }
   },
   "outputs": [],
   "source": [
    "from pyspark.sql import SparkSession\n",
    "\n",
    "spark = (SparkSession\n",
    "        .builder\n",
    "        .appName(\"PythonMnMCount\")\n",
    "        .getOrCreate())\n",
    "\n",
    "mnm_file = 'C:/0. Modeling/1. Modeling Code/Pyspark/pyspark_dataset/mnm_dataset.csv'\n",
    "\n",
    "mnm_df = (spark.read.format(\"csv\")\n",
    "         .option(\"header\",\"true\")\n",
    "         .option(\"inferSchema\",\"true\")\n",
    "         .load(mnm_file))"
   ]
  },
  {
   "cell_type": "code",
   "execution_count": 39,
   "id": "790da41e",
   "metadata": {
    "ExecuteTime": {
     "end_time": "2023-06-12T04:42:00.072808Z",
     "start_time": "2023-06-12T04:42:00.055810Z"
    }
   },
   "outputs": [
    {
     "data": {
      "text/plain": [
       "DataFrame[State: string, Color: string, Count: int]"
      ]
     },
     "execution_count": 39,
     "metadata": {},
     "output_type": "execute_result"
    }
   ],
   "source": [
    "mnm_df"
   ]
  },
  {
   "cell_type": "code",
   "execution_count": 40,
   "id": "fa7b9f7b",
   "metadata": {
    "ExecuteTime": {
     "end_time": "2023-06-12T04:43:49.510431Z",
     "start_time": "2023-06-12T04:43:49.471465Z"
    }
   },
   "outputs": [],
   "source": [
    "count_mnm_df = (mnm_df\n",
    "               .select(\"State\",\"Color\",\"Count\")\n",
    "               .groupBy(\"State\",\"Color\")\n",
    "               .agg(count(\"Count\")\n",
    "               .alias(\"Total\"))\n",
    "               .orderBy(\"Total\", ascending = True))"
   ]
  },
  {
   "cell_type": "code",
   "execution_count": 41,
   "id": "0bc221f0",
   "metadata": {
    "ExecuteTime": {
     "end_time": "2023-06-12T04:44:38.810613Z",
     "start_time": "2023-06-12T04:44:38.775616Z"
    }
   },
   "outputs": [
    {
     "name": "stdout",
     "output_type": "stream",
     "text": [
      "== Parsed Logical Plan ==\n",
      "'Sort ['Total ASC NULLS FIRST], true\n",
      "+- Aggregate [State#909, Color#910], [State#909, Color#910, count(Count#911) AS Total#923L]\n",
      "   +- Project [State#909, Color#910, Count#911]\n",
      "      +- Relation [State#909,Color#910,Count#911] csv\n",
      "\n",
      "== Analyzed Logical Plan ==\n",
      "State: string, Color: string, Total: bigint\n",
      "Sort [Total#923L ASC NULLS FIRST], true\n",
      "+- Aggregate [State#909, Color#910], [State#909, Color#910, count(Count#911) AS Total#923L]\n",
      "   +- Project [State#909, Color#910, Count#911]\n",
      "      +- Relation [State#909,Color#910,Count#911] csv\n",
      "\n",
      "== Optimized Logical Plan ==\n",
      "Sort [Total#923L ASC NULLS FIRST], true\n",
      "+- Aggregate [State#909, Color#910], [State#909, Color#910, count(Count#911) AS Total#923L]\n",
      "   +- Relation [State#909,Color#910,Count#911] csv\n",
      "\n",
      "== Physical Plan ==\n",
      "AdaptiveSparkPlan isFinalPlan=false\n",
      "+- Sort [Total#923L ASC NULLS FIRST], true, 0\n",
      "   +- Exchange rangepartitioning(Total#923L ASC NULLS FIRST, 200), ENSURE_REQUIREMENTS, [plan_id=471]\n",
      "      +- HashAggregate(keys=[State#909, Color#910], functions=[count(Count#911)], output=[State#909, Color#910, Total#923L])\n",
      "         +- Exchange hashpartitioning(State#909, Color#910, 200), ENSURE_REQUIREMENTS, [plan_id=468]\n",
      "            +- HashAggregate(keys=[State#909, Color#910], functions=[partial_count(Count#911)], output=[State#909, Color#910, count#928L])\n",
      "               +- FileScan csv [State#909,Color#910,Count#911] Batched: false, DataFilters: [], Format: CSV, Location: InMemoryFileIndex(1 paths)[file:/C:/0. Modeling/1. Modeling Code/Pyspark/pyspark_dataset/mnm_data..., PartitionFilters: [], PushedFilters: [], ReadSchema: struct<State:string,Color:string,Count:int>\n",
      "\n"
     ]
    }
   ],
   "source": [
    "# 파이썬 코드가 거치게 되는 다른 스테이지들을 확인\n",
    "\n",
    "count_mnm_df.explain(True)"
   ]
  },
  {
   "cell_type": "code",
   "execution_count": null,
   "id": "35433f05",
   "metadata": {},
   "outputs": [],
   "source": []
  }
 ],
 "metadata": {
  "kernelspec": {
   "display_name": "Python 3",
   "language": "python",
   "name": "python3"
  },
  "language_info": {
   "codemirror_mode": {
    "name": "ipython",
    "version": 3
   },
   "file_extension": ".py",
   "mimetype": "text/x-python",
   "name": "python",
   "nbconvert_exporter": "python",
   "pygments_lexer": "ipython3",
   "version": "3.8.5"
  },
  "toc": {
   "base_numbering": 1,
   "nav_menu": {},
   "number_sections": true,
   "sideBar": true,
   "skip_h1_title": false,
   "title_cell": "Table of Contents",
   "title_sidebar": "Contents",
   "toc_cell": false,
   "toc_position": {
    "height": "calc(100% - 180px)",
    "left": "10px",
    "top": "150px",
    "width": "337.812px"
   },
   "toc_section_display": true,
   "toc_window_display": true
  }
 },
 "nbformat": 4,
 "nbformat_minor": 5
}
