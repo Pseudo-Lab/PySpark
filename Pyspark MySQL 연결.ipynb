{
 "cells": [
  {
   "cell_type": "markdown",
   "id": "711d7b82",
   "metadata": {},
   "source": [
    "# 로드 함수를 사용하여 jdbc 소스로부터 데이터를 로드"
   ]
  },
  {
   "cell_type": "code",
   "execution_count": 2,
   "id": "44fdf8e3",
   "metadata": {
    "ExecuteTime": {
     "end_time": "2023-04-28T04:57:08.246842Z",
     "start_time": "2023-04-28T04:56:52.257635Z"
    }
   },
   "outputs": [],
   "source": [
    "from pyspark.sql import SparkSession\n",
    "\n",
    "spark = (SparkSession.builder\n",
    "                     .config(\"spark.jars\", \"C:/Program Files (x86)/MySQL/Connector J 8.0/mysql-connector-j-8.0.33.jar\")\n",
    "                     .master(\"local\")\n",
    "                     .appName(\"mysql\")\n",
    "                     .getOrCreate())"
   ]
  },
  {
   "cell_type": "code",
   "execution_count": 7,
   "id": "8fee730b",
   "metadata": {
    "ExecuteTime": {
     "end_time": "2023-04-28T04:59:26.414880Z",
     "start_time": "2023-04-28T04:59:26.355788Z"
    }
   },
   "outputs": [],
   "source": [
    "df_department = spark.read.format(\"jdbc\") \\\n",
    "    .options(\n",
    "    url = \"jdbc:mysql://localhost:3306/learningsparkdb\",\n",
    "    driver = \"com.mysql.jdbc.Driver\",\n",
    "    dbtable = \"Department\",\n",
    "    user = \"root\",\n",
    "    password = \"0000\").load()"
   ]
  },
  {
   "cell_type": "code",
   "execution_count": 11,
   "id": "8058e050",
   "metadata": {
    "ExecuteTime": {
     "end_time": "2023-04-28T05:00:13.178173Z",
     "start_time": "2023-04-28T05:00:13.169173Z"
    }
   },
   "outputs": [
    {
     "name": "stdout",
     "output_type": "stream",
     "text": [
      "root\n",
      " |-- Id: integer (nullable = true)\n",
      " |-- Name: string (nullable = true)\n",
      "\n"
     ]
    }
   ],
   "source": [
    "df_department.printSchema()"
   ]
  },
  {
   "cell_type": "code",
   "execution_count": 10,
   "id": "3dd36db6",
   "metadata": {
    "ExecuteTime": {
     "end_time": "2023-04-28T05:00:11.447418Z",
     "start_time": "2023-04-28T05:00:11.344464Z"
    }
   },
   "outputs": [
    {
     "name": "stdout",
     "output_type": "stream",
     "text": [
      "+---+-----+\n",
      "| Id| Name|\n",
      "+---+-----+\n",
      "|  1|   IT|\n",
      "|  2|Sales|\n",
      "+---+-----+\n",
      "\n"
     ]
    }
   ],
   "source": [
    "df_department.show()"
   ]
  },
  {
   "cell_type": "code",
   "execution_count": 45,
   "id": "e9da4e63",
   "metadata": {
    "ExecuteTime": {
     "end_time": "2023-04-28T05:42:30.383942Z",
     "start_time": "2023-04-28T05:42:30.366934Z"
    }
   },
   "outputs": [],
   "source": [
    "df_department2 = df_department.withColumnRenamed(\"Id\", \"DepId\").withColumnRenamed(\"Name\",\"DepName\")"
   ]
  },
  {
   "cell_type": "code",
   "execution_count": 15,
   "id": "4c5edef5",
   "metadata": {
    "ExecuteTime": {
     "end_time": "2023-04-28T05:04:13.523543Z",
     "start_time": "2023-04-28T05:04:13.471748Z"
    }
   },
   "outputs": [],
   "source": [
    "df_employee = spark.read.format(\"jdbc\") \\\n",
    "    .options(\n",
    "    url = \"jdbc:mysql://localhost:3306/learningsparkdb\",\n",
    "    driver = \"com.mysql.jdbc.Driver\",\n",
    "    dbtable = \"Employee\",\n",
    "    user = \"root\",\n",
    "    password = \"0000\").load()"
   ]
  },
  {
   "cell_type": "code",
   "execution_count": 16,
   "id": "8cff408c",
   "metadata": {
    "ExecuteTime": {
     "end_time": "2023-04-28T05:04:22.689566Z",
     "start_time": "2023-04-28T05:04:22.671404Z"
    }
   },
   "outputs": [
    {
     "name": "stdout",
     "output_type": "stream",
     "text": [
      "root\n",
      " |-- Id: integer (nullable = true)\n",
      " |-- Name: string (nullable = true)\n",
      " |-- Salary: integer (nullable = true)\n",
      " |-- DepartmentId: integer (nullable = true)\n",
      "\n"
     ]
    }
   ],
   "source": [
    "df_employee.printSchema()"
   ]
  },
  {
   "cell_type": "code",
   "execution_count": 17,
   "id": "795488f6",
   "metadata": {
    "ExecuteTime": {
     "end_time": "2023-04-28T05:04:29.338190Z",
     "start_time": "2023-04-28T05:04:29.183391Z"
    },
    "scrolled": true
   },
   "outputs": [
    {
     "name": "stdout",
     "output_type": "stream",
     "text": [
      "+---+-----+------+------------+\n",
      "| Id| Name|Salary|DepartmentId|\n",
      "+---+-----+------+------------+\n",
      "|  1|  Joe| 70000|           1|\n",
      "|  2|  Jim| 90000|           1|\n",
      "|  3|Henry| 80000|           2|\n",
      "|  4|  Sam| 60000|           2|\n",
      "|  5|  Max| 90000|           1|\n",
      "+---+-----+------+------------+\n",
      "\n"
     ]
    }
   ],
   "source": [
    "df_employee.show()"
   ]
  },
  {
   "cell_type": "code",
   "execution_count": 20,
   "id": "c48d2734",
   "metadata": {
    "ExecuteTime": {
     "end_time": "2023-04-28T05:28:56.710564Z",
     "start_time": "2023-04-28T05:28:56.662527Z"
    }
   },
   "outputs": [],
   "source": [
    "df_employee.createOrReplaceTempView(\"Employee\")"
   ]
  },
  {
   "cell_type": "code",
   "execution_count": 22,
   "id": "cf522c2b",
   "metadata": {
    "ExecuteTime": {
     "end_time": "2023-04-28T05:29:46.541738Z",
     "start_time": "2023-04-28T05:29:46.399554Z"
    },
    "scrolled": false
   },
   "outputs": [
    {
     "name": "stdout",
     "output_type": "stream",
     "text": [
      "+---+-----+------+------------+\n",
      "| Id| Name|Salary|DepartmentId|\n",
      "+---+-----+------+------------+\n",
      "|  1|  Joe| 70000|           1|\n",
      "|  2|  Jim| 90000|           1|\n",
      "|  3|Henry| 80000|           2|\n",
      "|  4|  Sam| 60000|           2|\n",
      "|  5|  Max| 90000|           1|\n",
      "+---+-----+------+------------+\n",
      "\n"
     ]
    }
   ],
   "source": [
    "spark.sql(\"SELECT * FROM Employee\").show()"
   ]
  },
  {
   "cell_type": "code",
   "execution_count": 40,
   "id": "ad9bc212",
   "metadata": {
    "ExecuteTime": {
     "end_time": "2023-04-28T05:40:13.410084Z",
     "start_time": "2023-04-28T05:40:13.328064Z"
    }
   },
   "outputs": [
    {
     "name": "stdout",
     "output_type": "stream",
     "text": [
      "+------------+--------------+\n",
      "|DepartmentId|DepartmentName|\n",
      "+------------+--------------+\n",
      "|           1|            IT|\n",
      "|           2|         Sales|\n",
      "+------------+--------------+\n",
      "\n"
     ]
    }
   ],
   "source": [
    "df_department2.show()"
   ]
  },
  {
   "cell_type": "code",
   "execution_count": 49,
   "id": "d44e9a9e",
   "metadata": {
    "ExecuteTime": {
     "end_time": "2023-04-28T05:44:05.873905Z",
     "start_time": "2023-04-28T05:44:05.851908Z"
    }
   },
   "outputs": [],
   "source": [
    "new_df = df_employee.join(df_department2,\n",
    "                df_employee.DepartmentId==df_department2.DepId)"
   ]
  },
  {
   "cell_type": "code",
   "execution_count": 50,
   "id": "07b57714",
   "metadata": {
    "ExecuteTime": {
     "end_time": "2023-04-28T05:44:06.582567Z",
     "start_time": "2023-04-28T05:44:06.562580Z"
    }
   },
   "outputs": [],
   "source": [
    "new_df2 = new_df.drop(\"DepId\")"
   ]
  },
  {
   "cell_type": "code",
   "execution_count": 51,
   "id": "97f10104",
   "metadata": {
    "ExecuteTime": {
     "end_time": "2023-04-28T05:44:14.109135Z",
     "start_time": "2023-04-28T05:44:13.694201Z"
    }
   },
   "outputs": [
    {
     "name": "stdout",
     "output_type": "stream",
     "text": [
      "+---+-----+------+------------+-------+\n",
      "| Id| Name|Salary|DepartmentId|DepName|\n",
      "+---+-----+------+------------+-------+\n",
      "|  1|  Joe| 70000|           1|     IT|\n",
      "|  2|  Jim| 90000|           1|     IT|\n",
      "|  5|  Max| 90000|           1|     IT|\n",
      "|  3|Henry| 80000|           2|  Sales|\n",
      "|  4|  Sam| 60000|           2|  Sales|\n",
      "+---+-----+------+------------+-------+\n",
      "\n"
     ]
    }
   ],
   "source": [
    "new_df2.show()"
   ]
  },
  {
   "cell_type": "markdown",
   "id": "038e2cb4",
   "metadata": {},
   "source": [
    "# 저장 함수를 사용하여 JDBC 소스에 데이터를 저장"
   ]
  },
  {
   "cell_type": "code",
   "execution_count": 52,
   "id": "c1d5f418",
   "metadata": {
    "ExecuteTime": {
     "end_time": "2023-04-28T05:44:23.134288Z",
     "start_time": "2023-04-28T05:44:22.588088Z"
    }
   },
   "outputs": [],
   "source": [
    "(new_df2\n",
    "    .write\n",
    "    .format(\"jdbc\")\n",
    "    .options(\n",
    "    url = \"jdbc:mysql://localhost:3306/learningsparkdb\",\n",
    "    driver = \"com.mysql.jdbc.Driver\",\n",
    "    dbtable = \"Employee2\",\n",
    "    user = \"root\",\n",
    "    password = \"0000\").save())"
   ]
  },
  {
   "cell_type": "code",
   "execution_count": 57,
   "id": "fc5eaee4",
   "metadata": {
    "ExecuteTime": {
     "end_time": "2023-04-28T06:07:54.199189Z",
     "start_time": "2023-04-28T06:07:47.812643Z"
    }
   },
   "outputs": [
    {
     "name": "stdout",
     "output_type": "stream",
     "text": [
      "Reinitialized existing Git repository in C:/0. Modeling/1. Modeling Code/.git/\n"
     ]
    }
   ],
   "source": [
    "!git init"
   ]
  },
  {
   "cell_type": "code",
   "execution_count": null,
   "id": "186115a0",
   "metadata": {},
   "outputs": [],
   "source": []
  }
 ],
 "metadata": {
  "kernelspec": {
   "display_name": "Python 3",
   "language": "python",
   "name": "python3"
  },
  "language_info": {
   "codemirror_mode": {
    "name": "ipython",
    "version": 3
   },
   "file_extension": ".py",
   "mimetype": "text/x-python",
   "name": "python",
   "nbconvert_exporter": "python",
   "pygments_lexer": "ipython3",
   "version": "3.8.5"
  },
  "toc": {
   "base_numbering": 1,
   "nav_menu": {},
   "number_sections": true,
   "sideBar": true,
   "skip_h1_title": false,
   "title_cell": "Table of Contents",
   "title_sidebar": "Contents",
   "toc_cell": false,
   "toc_position": {},
   "toc_section_display": true,
   "toc_window_display": false
  }
 },
 "nbformat": 4,
 "nbformat_minor": 5
}
